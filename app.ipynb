{
 "cells": [
  {
   "cell_type": "code",
   "execution_count": null,
   "metadata": {},
   "outputs": [],
   "source": [
    "!pip3 install requests\n",
    "!pip3 install pyodbc\n",
    "import json, requests, itertools, os, pandas as pd, numpy as np, pyodbc\n",
    "from urllib.parse import urljoin"
   ]
  },
  {
   "cell_type": "code",
   "execution_count": null,
   "metadata": {},
   "outputs": [],
   "source": [
    "base_url = 'https://siu.admin.12twenty.com/api'\n",
    "auth_key = 'ig5eb2bqnq5cec1hrud8y'\n",
    "auth_url = base_url + '/client/generateAuthenticationToken?key=' + auth_key\n",
    "\n",
    "bearer_token = requests.get(auth_url).text\n",
    "auth_header = {'Authorization': 'Bearer ' + bearer_token}"
   ]
  },
  {
   "cell_type": "code",
   "execution_count": null,
   "metadata": {},
   "outputs": [],
   "source": [
    "students_url = base_url + '/V2/students'\n",
    "students_params = {'PageSize' : '500'}\n",
    "twelve_twenty_students_json = requests.get(students_url, headers=auth_header, params=students_params)\n",
    "#print(json.dumps(studentsJson.json(), indent=2))"
   ]
  },
  {
   "cell_type": "code",
   "execution_count": null,
   "metadata": {},
   "outputs": [],
   "source": [
    "twelve_twenty_students_json = json.loads(twelve_twenty_students_json.text)\n",
    "twelve_twenty_students_page = pd.json_normalize(twelve_twenty_students_json['Items'])\n",
    "twelve_twenty_students_page.head()"
   ]
  },
  {
   "cell_type": "code",
   "execution_count": null,
   "metadata": {},
   "outputs": [],
   "source": [
    "twelve_twenty_students = []\n",
    "twelve_twenty_students.append(twelve_twenty_students_page)\n",
    "num_pages = twelve_twenty_students_json['NumberOfPages']\n",
    "for page in range(2, num_pages + 1):\n",
    "    students_params = {'PageSize' : '500', 'PageNumber': page}\n",
    "    twelve_twenty_students_json = json.loads(requests.get(students_url, headers=auth_header, params=students_params).text)\n",
    "    twelve_twenty_students_page = pd.json_normalize(twelve_twenty_students_json['Items'])\n",
    "    twelve_twenty_students.append(twelve_twenty_students_page)"
   ]
  },
  {
   "cell_type": "code",
   "execution_count": null,
   "metadata": {},
   "outputs": [],
   "source": [
    "twelve_twenty_students = pd.concat(twelve_twenty_students)\n",
    "print(twelve_twenty_students.count())\n",
    "twelve_twenty_students"
   ]
  },
  {
   "cell_type": "code",
   "execution_count": null,
   "metadata": {},
   "outputs": [],
   "source": [
    "print(twelve_twenty_students.columns.tolist())\n",
    "\n",
    "columnMapping = {'Id':'12TwentyId',\n",
    "                 'FirstName':'FirstName',\n",
    "                 'MiddleName':'MiddleName',\n",
    "                 'LastName' : 'LastName',\n",
    "                 'EmailAddress' : 'EmailAddress',\n",
    "                 'IsEnrolled': 'IsEnrolled',\n",
    "                 'StudentId': 'StudentId',\n",
    "                 'College.Name': 'College',\n",
    "                 'Program.Name': 'Program',\n",
    "                 'GraduationYearId' : 'GraduationYear',\n",
    "                 'GraduationTerm' : 'GraduationTerm',\n",
    "                 'DegreeLevel.Name' : 'DegreeLevel',\n",
    "                 'CustomAttributeValues.custom_attribute_10888805132042': 'AppliedForGraduation'\n",
    "}\n",
    "\n",
    "for column in twelve_twenty_students.columns:\n",
    "    if column not in columnMapping.keys():\n",
    "        twelve_twenty_students.drop(column, axis=1, inplace=True)\n",
    "\n",
    "twelve_twenty_students.rename(columns = columnMapping, inplace='True')\n",
    "\n",
    "twelve_twenty_students.set_index('StudentId')\n",
    "twelve_twenty_students\n"
   ]
  },
  {
   "cell_type": "code",
   "execution_count": null,
   "metadata": {},
   "outputs": [],
   "source": [
    "sql_connection = pyodbc.connect(\"Driver={SQL Server};\"\n",
    "                      \"Server=itapp-ssis-dev;\"\n",
    "                      \"Database=MableySandbox;\"\n",
    "                      \"Trusted_Connection=yes;\")\n"
   ]
  },
  {
   "cell_type": "code",
   "execution_count": null,
   "metadata": {},
   "outputs": [],
   "source": [
    "ods_query = \"SELECT * FROM TwelveTwentyStudents;\"\n",
    "ods_students = pd.read_sql(ods_query,sql_connection)\n",
    "ods_students.insert(len(ods_students.columns), 'ActionNeeded', 'None')\n",
    "ods_students.insert(len(ods_students.columns), 'Result', '')\n",
    "ods_students.insert(len(ods_students.columns), 'Message', '')\n",
    "#strip year from graduation term\n",
    "ods_students['GraduationTerm'] = ods_students['GraduationTerm'].str.replace('\\d*', '', regex=True)\n",
    "ods_students.set_index('StudentId')"
   ]
  },
  {
   "cell_type": "code",
   "execution_count": null,
   "metadata": {},
   "outputs": [],
   "source": [
    "ods_students.loc[~ods_students['StudentId'].isin(twelve_twenty_students['StudentId']), 'ActionNeeded'] = 'Insert'\n",
    "ods_students.loc[~ods_students['StudentId'].isin(twelve_twenty_students['StudentId'])]"
   ]
  },
  {
   "cell_type": "code",
   "execution_count": null,
   "metadata": {},
   "outputs": [],
   "source": [
    "# idx = odsStudentsDataFrame.index.intersection(allStudentData)\n",
    "# odsStudentsDataFrame.loc[idx].eq(allStudentData.loc[idx])\n",
    "# studentsToUpdate = odsStudentsDataFrame.where(odsStudentsDataFrame['StudentId'] == allStudentData['StudentId'])\n",
    "\n",
    "merged_students = pd.merge(ods_students, twelve_twenty_students, on ='StudentId', how='left', suffixes=['_ODS', '_12Twenty'])\n",
    "merged_students"
   ]
  },
  {
   "cell_type": "code",
   "execution_count": null,
   "metadata": {},
   "outputs": [],
   "source": [
    "merged_students.loc[merged_students['EmailAddress_ODS'] != (merged_students['EmailAddress_12Twenty'])] = 'Update'\n",
    "\n",
    "# merged_students['EmailAddress_ODS'].equals(merged_students['EmailAddress_12Twenty']),'Update', merged_students['ActionNeeded']))\n",
    "                                            # &\n",
    "                                            # (merged_students['FirstName_ODS']!= merged_students['FirstName_12Twenty']) &\n",
    "                                            # (merged_students['LastName_ODS']!= merged_students['LastName_12Twenty']) &\n",
    "                                            # (merged_students['DegreeLevel_ODS']!= merged_students['DegreeLevel_12Twenty']) &\n",
    "                                            # (merged_students['GraduationYear_ODS']!= merged_students['GraduationYear_12Twenty']) &\n",
    "                                            # (merged_students['GraduationTerm_ODS']!= merged_students['GraduationTerm_12Twenty']) &\n",
    "                                            # (merged_students['AppliedForGrad_ODS' != merged_students['AppliedForGraduation']]) &\n",
    "                                            # (merged_students['IsEnrolled_ODS' != merged_students['IsEnrolled_12Twenty']]),\n",
    "                             \n",
    "merged_students"
   ]
  }
 ],
 "metadata": {
  "kernelspec": {
   "display_name": "Python 3",
   "language": "python",
   "name": "python3"
  },
  "language_info": {
   "codemirror_mode": {
    "name": "ipython",
    "version": 3
   },
   "file_extension": ".py",
   "mimetype": "text/x-python",
   "name": "python",
   "nbconvert_exporter": "python",
   "pygments_lexer": "ipython3",
   "version": "3.12.6"
  }
 },
 "nbformat": 4,
 "nbformat_minor": 2
}
